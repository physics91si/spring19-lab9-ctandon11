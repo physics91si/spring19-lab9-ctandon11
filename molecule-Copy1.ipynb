{
 "cells": [
  {
   "cell_type": "code",
   "execution_count": 5,
   "metadata": {},
   "outputs": [],
   "source": [
    "#part 1"
   ]
  },
  {
   "cell_type": "code",
   "execution_count": 11,
   "metadata": {},
   "outputs": [],
   "source": [
    "import matplotlib.pyplot as plt\n",
    "import particle\n",
    "import numpy as np\n",
    "\n",
    "class molecule:\n",
    "    def __in__(self, p1, p2, k, L0):\n",
    "        self.p1=particle(p1)\n",
    "        self.p2=particle(p2)\n",
    "        self.k=k\n",
    "        self.L0=L0\n",
    "\n",
    "    def get_displ(molecule):\n",
    "        return np.array(molecule.p1.pos)-np.array(molecule.p2.pos)\n",
    "\n"
   ]
  },
  {
   "cell_type": "code",
   "execution_count": null,
   "metadata": {},
   "outputs": [],
   "source": [
    "print(molecule.get_displ(particle.Particle([2,1],10),)"
   ]
  }
 ],
 "metadata": {
  "kernelspec": {
   "display_name": "Python 3",
   "language": "python",
   "name": "python3"
  },
  "language_info": {
   "codemirror_mode": {
    "name": "ipython",
    "version": 3
   },
   "file_extension": ".py",
   "mimetype": "text/x-python",
   "name": "python",
   "nbconvert_exporter": "python",
   "pygments_lexer": "ipython3",
   "version": "3.7.1"
  }
 },
 "nbformat": 4,
 "nbformat_minor": 2
}
